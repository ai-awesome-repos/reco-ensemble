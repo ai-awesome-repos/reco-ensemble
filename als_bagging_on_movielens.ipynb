{
 "cells": [
  {
   "cell_type": "markdown",
   "metadata": {},
   "source": [
    "# ALS Bagging Ensemble for Movie Recommendation\n",
    "<br>  \n",
    "This notebook is an example of using bagging ensemble w/ pySpark ASL on [MovieLens](https://grouplens.org/datasets/movielens/) data"
   ]
  },
  {
   "cell_type": "code",
   "execution_count": 5,
   "metadata": {},
   "outputs": [],
   "source": [
    "import pyspark\n",
    "import pyspark.sql.functions as F\n",
    "from pyspark.ml.recommendation import ALS\n",
    "from pyspark.sql import SparkSession\n",
    "from pyspark.sql.types import (\n",
    "    StructType,\n",
    "    StructField,\n",
    "    StringType,\n",
    "    FloatType,\n",
    "    IntegerType,\n",
    "    LongType\n",
    ")\n",
    "\n",
    "import pandas as pd\n",
    "from bagging import RecoBagging\n",
    "\n",
    "spark = SparkSession.builder.appName(\"SAR pySpark\").getOrCreate()"
   ]
  },
  {
   "cell_type": "code",
   "execution_count": 7,
   "metadata": {},
   "outputs": [],
   "source": [
    "# Number of models to combine\n",
    "NUM_MODELS = 10\n",
    "\n",
    "# Number of items to recommend for each user\n",
    "TOP_K = 10"
   ]
  },
  {
   "cell_type": "markdown",
   "metadata": {},
   "source": [
    "Load 100k MovieLens data and randomly split into training and test sets"
   ]
  },
  {
   "cell_type": "code",
   "execution_count": 2,
   "metadata": {},
   "outputs": [
    {
     "data": {
      "text/html": [
       "<div>\n",
       "<style scoped>\n",
       "    .dataframe tbody tr th:only-of-type {\n",
       "        vertical-align: middle;\n",
       "    }\n",
       "\n",
       "    .dataframe tbody tr th {\n",
       "        vertical-align: top;\n",
       "    }\n",
       "\n",
       "    .dataframe thead th {\n",
       "        text-align: right;\n",
       "    }\n",
       "</style>\n",
       "<table border=\"1\" class=\"dataframe\">\n",
       "  <thead>\n",
       "    <tr style=\"text-align: right;\">\n",
       "      <th></th>\n",
       "      <th>userId</th>\n",
       "      <th>movieId</th>\n",
       "      <th>rating</th>\n",
       "      <th>timestamp</th>\n",
       "    </tr>\n",
       "  </thead>\n",
       "  <tbody>\n",
       "    <tr>\n",
       "      <th>0</th>\n",
       "      <td>196</td>\n",
       "      <td>242</td>\n",
       "      <td>3.0</td>\n",
       "      <td>881250949</td>\n",
       "    </tr>\n",
       "    <tr>\n",
       "      <th>1</th>\n",
       "      <td>186</td>\n",
       "      <td>302</td>\n",
       "      <td>3.0</td>\n",
       "      <td>891717742</td>\n",
       "    </tr>\n",
       "    <tr>\n",
       "      <th>2</th>\n",
       "      <td>22</td>\n",
       "      <td>377</td>\n",
       "      <td>1.0</td>\n",
       "      <td>878887116</td>\n",
       "    </tr>\n",
       "    <tr>\n",
       "      <th>3</th>\n",
       "      <td>244</td>\n",
       "      <td>51</td>\n",
       "      <td>2.0</td>\n",
       "      <td>880606923</td>\n",
       "    </tr>\n",
       "    <tr>\n",
       "      <th>4</th>\n",
       "      <td>166</td>\n",
       "      <td>346</td>\n",
       "      <td>1.0</td>\n",
       "      <td>886397596</td>\n",
       "    </tr>\n",
       "  </tbody>\n",
       "</table>\n",
       "</div>"
      ],
      "text/plain": [
       "   userId  movieId  rating  timestamp\n",
       "0     196      242     3.0  881250949\n",
       "1     186      302     3.0  891717742\n",
       "2      22      377     1.0  878887116\n",
       "3     244       51     2.0  880606923\n",
       "4     166      346     1.0  886397596"
      ]
     },
     "execution_count": 2,
     "metadata": {},
     "output_type": "execute_result"
    }
   ],
   "source": [
    "url = \"http://files.grouplens.org/datasets/movielens/ml-100k/u.data\"\n",
    "data_pd = pd.read_csv(url, sep='\\t', names=['userId', 'movieId', 'rating', 'timestamp'])\n",
    "assert len(data_pd) == 100000\n",
    "\n",
    "data_pd['rating'] = data_pd['rating'].astype(float)\n",
    "data_pd.head()"
   ]
  },
  {
   "cell_type": "code",
   "execution_count": 3,
   "metadata": {},
   "outputs": [
    {
     "name": "stdout",
     "output_type": "stream",
     "text": [
      "Train vs test: 69854 vs 30146\n"
     ]
    }
   ],
   "source": [
    "schema = StructType([\n",
    "    StructField('userId', IntegerType()),\n",
    "    StructField('movieId', IntegerType()),\n",
    "    StructField('rating', FloatType()),\n",
    "    StructField('timestamp', LongType()),\n",
    "])\n",
    "data_df = spark.createDataFrame(data_pd, schema=schema)\n",
    "\n",
    "train, test = data_df.randomSplit([0.7, 0.3], 123)\n",
    "print(\"Train vs test: {} vs {}\".format(\n",
    "    train.cache().count(),\n",
    "    test.cache().count()))"
   ]
  },
  {
   "cell_type": "markdown",
   "metadata": {},
   "source": [
    "\n",
    "Train multiple ALS with bootstraping sampling. To add more diversity in the ensemble, randomize some of the ALS hyper params too.\n"
   ]
  },
  {
   "cell_type": "code",
   "execution_count": 8,
   "metadata": {},
   "outputs": [
    {
     "name": "stdout",
     "output_type": "stream",
     "text": [
      "Training model 0 {'userCol': 'userId', 'itemCol': 'movieId', 'ratingCol': 'rating', 'rank': 37, 'maxIter': 15, 'implicitPrefs': True, 'alpha': 27.390812878519107, 'regParam': 0.11073720135143822, 'coldStartStrategy': 'drop', 'nonnegative': True}\n",
      "Training model 1 {'userCol': 'userId', 'itemCol': 'movieId', 'ratingCol': 'rating', 'rank': 37, 'maxIter': 15, 'implicitPrefs': True, 'alpha': 5.640445320280572, 'regParam': 0.06761005361189487, 'coldStartStrategy': 'drop', 'nonnegative': True}\n",
      "Training model 2 {'userCol': 'userId', 'itemCol': 'movieId', 'ratingCol': 'rating', 'rank': 41, 'maxIter': 15, 'implicitPrefs': True, 'alpha': 1.2118704217201888, 'regParam': 0.1975057861034909, 'coldStartStrategy': 'drop', 'nonnegative': True}\n",
      "Training model 3 {'userCol': 'userId', 'itemCol': 'movieId', 'ratingCol': 'rating', 'rank': 47, 'maxIter': 15, 'implicitPrefs': True, 'alpha': 16.44757889508595, 'regParam': 0.19468782404064525, 'coldStartStrategy': 'drop', 'nonnegative': True}\n",
      "Training model 4 {'userCol': 'userId', 'itemCol': 'movieId', 'ratingCol': 'rating', 'rank': 34, 'maxIter': 15, 'implicitPrefs': True, 'alpha': 34.67803884133723, 'regParam': 0.07758186203777125, 'coldStartStrategy': 'drop', 'nonnegative': True}\n",
      "Training model 5 {'userCol': 'userId', 'itemCol': 'movieId', 'ratingCol': 'rating', 'rank': 45, 'maxIter': 15, 'implicitPrefs': True, 'alpha': 7.430267006472795, 'regParam': 0.16979982904981572, 'coldStartStrategy': 'drop', 'nonnegative': True}\n",
      "Training model 6 {'userCol': 'userId', 'itemCol': 'movieId', 'ratingCol': 'rating', 'rank': 30, 'maxIter': 15, 'implicitPrefs': True, 'alpha': 31.413216716518278, 'regParam': 0.035102535926116084, 'coldStartStrategy': 'drop', 'nonnegative': True}\n",
      "Training model 7 {'userCol': 'userId', 'itemCol': 'movieId', 'ratingCol': 'rating', 'rank': 47, 'maxIter': 15, 'implicitPrefs': True, 'alpha': 2.2504213938130895, 'regParam': 0.1995138838204866, 'coldStartStrategy': 'drop', 'nonnegative': True}\n",
      "Training model 8 {'userCol': 'userId', 'itemCol': 'movieId', 'ratingCol': 'rating', 'rank': 25, 'maxIter': 15, 'implicitPrefs': True, 'alpha': 33.93152257530247, 'regParam': 0.08686736112891774, 'coldStartStrategy': 'drop', 'nonnegative': True}\n",
      "Training model 9 {'userCol': 'userId', 'itemCol': 'movieId', 'ratingCol': 'rating', 'rank': 28, 'maxIter': 15, 'implicitPrefs': True, 'alpha': 15.356056943136966, 'regParam': 0.03668633526584286, 'coldStartStrategy': 'drop', 'nonnegative': True}\n"
     ]
    }
   ],
   "source": [
    "params = {\n",
    "    'userCol': 'userId',\n",
    "    'itemCol': 'movieId',\n",
    "    'ratingCol': 'rating',\n",
    "    'rank': (20, 50),\n",
    "    'maxIter': 15,\n",
    "    'implicitPrefs': True,\n",
    "    'alpha': (0.1, 40.0),\n",
    "    'regParam': (0.01, 0.2),\n",
    "    'coldStartStrategy': 'drop',\n",
    "    'nonnegative': True\n",
    "}\n",
    "\n",
    "bagging = RecoBagging(\n",
    "    ALS,\n",
    "    num_models=NUM_MODELS,\n",
    "    user_col='userId', item_col='movieId', rating_col='rating',\n",
    "    **params\n",
    ")\n",
    "\n",
    "bagging.fit(train)"
   ]
  },
  {
   "cell_type": "markdown",
   "metadata": {},
   "source": [
    "Recommend top k Movies for each user"
   ]
  },
  {
   "cell_type": "code",
   "execution_count": 9,
   "metadata": {},
   "outputs": [
    {
     "name": "stdout",
     "output_type": "stream",
     "text": [
      "Recommending by 0\n",
      "Recommending by 1\n",
      "Recommending by 2\n",
      "Recommending by 3\n",
      "Recommending by 4\n",
      "Recommending by 5\n",
      "Recommending by 6\n",
      "Recommending by 7\n",
      "Recommending by 8\n",
      "Recommending by 9\n",
      "+------+--------------------+\n",
      "|userId|     recommendations|\n",
      "+------+--------------------+\n",
      "|   148|[[408, 2.01506903...|\n",
      "|   463|[[124, 1.99898111...|\n",
      "|   471|[[969, 1.76125515...|\n",
      "|   496|[[98, 0.920692272...|\n",
      "|   833|[[32, 1.884712659...|\n",
      "|   243|[[137, 2.29751922...|\n",
      "|   392|[[286, 2.83141433...|\n",
      "|   540|[[117, 2.39173550...|\n",
      "|   623|[[50, 1.670710236...|\n",
      "|   737|[[23, 0.926466422...|\n",
      "|   858|[[286, 2.56716712...|\n",
      "|   897|[[98, 1.351963298...|\n",
      "|    31|[[484, 1.84409073...|\n",
      "|   516|[[127, 1.70551274...|\n",
      "|    85|[[381, 1.68441748...|\n",
      "|   137|[[181, 3.71769568...|\n",
      "|   251|[[50, 3.185611522...|\n",
      "|   451|[[331, 1.74581842...|\n",
      "|   580|[[748, 1.72157082...|\n",
      "|   808|[[302, 2.15206930...|\n",
      "+------+--------------------+\n",
      "only showing top 20 rows\n",
      "\n"
     ]
    }
   ],
   "source": [
    "recommendations = bagging.recommend_k_items(test, top_k=TOP_K, merge_by='sum', scale=True)\n",
    "recommendations.cache().show()"
   ]
  },
  {
   "cell_type": "code",
   "execution_count": null,
   "metadata": {},
   "outputs": [],
   "source": []
  }
 ],
 "metadata": {
  "kernelspec": {
   "display_name": "Python 3",
   "language": "python",
   "name": "python3"
  },
  "language_info": {
   "codemirror_mode": {
    "name": "ipython",
    "version": 3
   },
   "file_extension": ".py",
   "mimetype": "text/x-python",
   "name": "python",
   "nbconvert_exporter": "python",
   "pygments_lexer": "ipython3",
   "version": "3.6.0"
  }
 },
 "nbformat": 4,
 "nbformat_minor": 2
}
